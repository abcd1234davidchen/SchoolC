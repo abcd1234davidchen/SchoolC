{
 "cells": [
  {
   "cell_type": "markdown",
   "id": "5202e233",
   "metadata": {},
   "source": [
    "# Math599 2025S"
   ]
  },
  {
   "cell_type": "markdown",
   "id": "vMaEabDvoe2N",
   "metadata": {
    "id": "vMaEabDvoe2N"
   },
   "source": [
    "Round the percentile value to three decimal places for your answer"
   ]
  },
  {
   "cell_type": "markdown",
   "id": "e34d01c4",
   "metadata": {
    "id": "e34d01c4"
   },
   "source": [
    "Name:  陳展皝\n",
    "\n",
    "Student ID: B123245006"
   ]
  },
  {
   "cell_type": "code",
   "execution_count": 2,
   "id": "0c6e02ea",
   "metadata": {
    "id": "0c6e02ea"
   },
   "outputs": [],
   "source": [
    "import numpy as np\n",
    "import pandas as pd\n",
    "import matplotlib.pyplot as plt"
   ]
  },
  {
   "cell_type": "markdown",
   "id": "e4699f85",
   "metadata": {
    "id": "e4699f85"
   },
   "source": [
    "# 1\n",
    "\n",
    "**Write True/False on your answer sheet.** (1 point for each question)\n",
    "\n",
    "1.1. The function `list.remove(x)` will remove the first occurrence of element equal to x in the list.  \n",
    "1.2. Let `df = pd.DataFrame( ..., index = [1,2,3])`.  Then `df.loc[0]` and `df.iloc[0]` will return the same row.  \n",
    "1.3. `A = np.array([1,2,3],dtype = int)`, It is unacceptable to execute `A.append(1.0)`.<br/>\n",
    "1.4. Let `df = pd.DataFrame( ..., index = [1,2,3])`.  It is acceptable to have two columns with the same name.  \n",
    "1.5. Let `df3 = pd.merge(df1, df2, on='id', how='inner')`.  Then `df3` will not contain any NaN values no matter what values in `df1`, `df2`.<br/>\n",
    "1.6. Let `df = pd.DataFrame( ..., index = [4,3,2,1])`.  Then `df.loc[2]` and `df.iloc[2]` will return the same row."
   ]
  },
  {
   "cell_type": "code",
   "execution_count": 7,
   "id": "327f7cbb",
   "metadata": {},
   "outputs": [
    {
     "name": "stdout",
     "output_type": "stream",
     "text": [
      "[1, 2, 3, 4, 5, 3]\n",
      "[1, 2, 4, 5, 3]\n"
     ]
    }
   ],
   "source": [
    "list = [1,2,3,4,5,3]\n",
    "print(list)\n",
    "list.remove(3)\n",
    "print(list)"
   ]
  },
  {
   "cell_type": "markdown",
   "id": "57709cdd",
   "metadata": {},
   "source": [
    "_Your answer:_"
   ]
  },
  {
   "cell_type": "code",
   "execution_count": 15,
   "id": "3ccc1e17",
   "metadata": {},
   "outputs": [
    {
     "name": "stdout",
     "output_type": "stream",
     "text": [
      "Unexpected exception formatting exception. Falling back to standard exception\n"
     ]
    },
    {
     "name": "stderr",
     "output_type": "stream",
     "text": [
      "Traceback (most recent call last):\n",
      "  File \"/Users/chenzhanhuang/miniforge3/lib/python3.13/site-packages/pandas/core/indexes/base.py\", line 3805, in get_loc\n",
      "    return self._engine.get_loc(casted_key)\n",
      "           ~~~~~~~~~~~~~~~~~~~~^^^^^^^^^^^^\n",
      "  File \"index.pyx\", line 167, in pandas._libs.index.IndexEngine.get_loc\n",
      "  File \"index.pyx\", line 196, in pandas._libs.index.IndexEngine.get_loc\n",
      "  File \"pandas/_libs/hashtable_class_helper.pxi\", line 2606, in pandas._libs.hashtable.Int64HashTable.get_item\n",
      "  File \"pandas/_libs/hashtable_class_helper.pxi\", line 2630, in pandas._libs.hashtable.Int64HashTable.get_item\n",
      "KeyError: 0\n",
      "\n",
      "The above exception was the direct cause of the following exception:\n",
      "\n",
      "Traceback (most recent call last):\n",
      "  File \"/Users/chenzhanhuang/miniforge3/lib/python3.13/site-packages/IPython/core/interactiveshell.py\", line 3577, in run_code\n",
      "    exec(code_obj, self.user_global_ns, self.user_ns)\n",
      "    ~~~~^^^^^^^^^^^^^^^^^^^^^^^^^^^^^^^^^^^^^^^^^^^^^\n",
      "  File \"/var/folders/k4/nr94nkkj46zg7xmg2myl51k00000gn/T/ipykernel_33382/2736107806.py\", line 3, in <module>\n",
      "    df.loc[0]\n",
      "    ~~~~~~^^^\n",
      "  File \"/Users/chenzhanhuang/miniforge3/lib/python3.13/site-packages/pandas/core/indexing.py\", line 1191, in __getitem__\n",
      "    return self._getitem_axis(maybe_callable, axis=axis)\n",
      "           ~~~~~~~~~~~~~~~~~~^^^^^^^^^^^^^^^^^^^^^^^^^^^\n",
      "  File \"/Users/chenzhanhuang/miniforge3/lib/python3.13/site-packages/pandas/core/indexing.py\", line 1431, in _getitem_axis\n",
      "    return self._get_label(key, axis=axis)\n",
      "           ~~~~~~~~~~~~~~~^^^^^^^^^^^^^^^^\n",
      "  File \"/Users/chenzhanhuang/miniforge3/lib/python3.13/site-packages/pandas/core/indexing.py\", line 1381, in _get_label\n",
      "    return self.obj.xs(label, axis=axis)\n",
      "           ~~~~~~~~~~~^^^^^^^^^^^^^^^^^^\n",
      "  File \"/Users/chenzhanhuang/miniforge3/lib/python3.13/site-packages/pandas/core/generic.py\", line 4301, in xs\n",
      "    loc = index.get_loc(key)\n",
      "  File \"/Users/chenzhanhuang/miniforge3/lib/python3.13/site-packages/pandas/core/indexes/base.py\", line 3812, in get_loc\n",
      "    raise KeyError(key) from err\n",
      "KeyError: 0\n",
      "\n",
      "During handling of the above exception, another exception occurred:\n",
      "\n",
      "Traceback (most recent call last):\n",
      "  File \"/Users/chenzhanhuang/miniforge3/lib/python3.13/site-packages/IPython/core/interactiveshell.py\", line 2168, in showtraceback\n",
      "    stb = self.InteractiveTB.structured_traceback(\n",
      "        etype, value, tb, tb_offset=tb_offset\n",
      "    )\n",
      "  File \"/Users/chenzhanhuang/miniforge3/lib/python3.13/site-packages/IPython/core/ultratb.py\", line 1454, in structured_traceback\n",
      "    return FormattedTB.structured_traceback(\n",
      "           ~~~~~~~~~~~~~~~~~~~~~~~~~~~~~~~~^\n",
      "        self, etype, evalue, etb, tb_offset, number_of_lines_of_context\n",
      "        ^^^^^^^^^^^^^^^^^^^^^^^^^^^^^^^^^^^^^^^^^^^^^^^^^^^^^^^^^^^^^^^\n",
      "    )\n",
      "    ^\n",
      "  File \"/Users/chenzhanhuang/miniforge3/lib/python3.13/site-packages/IPython/core/ultratb.py\", line 1345, in structured_traceback\n",
      "    return VerboseTB.structured_traceback(\n",
      "           ~~~~~~~~~~~~~~~~~~~~~~~~~~~~~~^\n",
      "        self, etype, value, tb, tb_offset, number_of_lines_of_context\n",
      "        ^^^^^^^^^^^^^^^^^^^^^^^^^^^^^^^^^^^^^^^^^^^^^^^^^^^^^^^^^^^^^\n",
      "    )\n",
      "    ^\n",
      "  File \"/Users/chenzhanhuang/miniforge3/lib/python3.13/site-packages/IPython/core/ultratb.py\", line 1192, in structured_traceback\n",
      "    formatted_exception = self.format_exception_as_a_whole(etype, evalue, etb, number_of_lines_of_context,\n",
      "                                                           tb_offset)\n",
      "  File \"/Users/chenzhanhuang/miniforge3/lib/python3.13/site-packages/IPython/core/ultratb.py\", line 1082, in format_exception_as_a_whole\n",
      "    self.get_records(etb, number_of_lines_of_context, tb_offset) if etb else []\n",
      "    ~~~~~~~~~~~~~~~~^^^^^^^^^^^^^^^^^^^^^^^^^^^^^^^^^^^^^^^^^^^^\n",
      "  File \"/Users/chenzhanhuang/miniforge3/lib/python3.13/site-packages/IPython/core/ultratb.py\", line 1179, in get_records\n",
      "    res = list(stack_data.FrameInfo.stack_data(etb, options=options))[tb_offset:]\n",
      "          ~~~~^^^^^^^^^^^^^^^^^^^^^^^^^^^^^^^^^^^^^^^^^^^^^^^^^^^^^^^\n",
      "  File \"/Users/chenzhanhuang/miniforge3/lib/python3.13/site-packages/stack_data/core.py\", line 597, in stack_data\n",
      "    yield from collapse_repeated(\n",
      "    ...<4 lines>...\n",
      "    )\n",
      "  File \"/Users/chenzhanhuang/miniforge3/lib/python3.13/site-packages/stack_data/utils.py\", line 83, in collapse_repeated\n",
      "    yield from map(mapper, original_group)\n",
      "  File \"/Users/chenzhanhuang/miniforge3/lib/python3.13/site-packages/stack_data/core.py\", line 587, in mapper\n",
      "    return cls(f, options)\n",
      "  File \"/Users/chenzhanhuang/miniforge3/lib/python3.13/site-packages/stack_data/core.py\", line 551, in __init__\n",
      "    self.executing = Source.executing(frame_or_tb)\n",
      "                     ~~~~~~~~~~~~~~~~^^^^^^^^^^^^^\n",
      "  File \"/Users/chenzhanhuang/miniforge3/lib/python3.13/site-packages/executing/executing.py\", line 283, in executing\n",
      "    assert_(new_stmts <= stmts)\n",
      "    ~~~~~~~^^^^^^^^^^^^^^^^^^^^\n",
      "  File \"/Users/chenzhanhuang/miniforge3/lib/python3.13/site-packages/executing/executing.py\", line 80, in assert_\n",
      "    raise AssertionError(str(message))\n",
      "AssertionError\n"
     ]
    }
   ],
   "source": [
    "df = pd.DataFrame(['a','b','c'],index = [1,2,3])\n",
    "df.iloc[0]\n",
    "df.loc[0]"
   ]
  },
  {
   "cell_type": "code",
   "execution_count": 18,
   "id": "9b226bc2",
   "metadata": {},
   "outputs": [
    {
     "name": "stdout",
     "output_type": "stream",
     "text": [
      "Unexpected exception formatting exception. Falling back to standard exception\n"
     ]
    },
    {
     "name": "stderr",
     "output_type": "stream",
     "text": [
      "Traceback (most recent call last):\n",
      "  File \"/Users/chenzhanhuang/miniforge3/lib/python3.13/site-packages/IPython/core/interactiveshell.py\", line 3577, in run_code\n",
      "    exec(code_obj, self.user_global_ns, self.user_ns)\n",
      "    ~~~~^^^^^^^^^^^^^^^^^^^^^^^^^^^^^^^^^^^^^^^^^^^^^\n",
      "  File \"/var/folders/k4/nr94nkkj46zg7xmg2myl51k00000gn/T/ipykernel_33382/382746988.py\", line 2, in <module>\n",
      "    A.append(1.0)\n",
      "    ^^^^^^^^\n",
      "AttributeError: 'numpy.ndarray' object has no attribute 'append'\n",
      "\n",
      "During handling of the above exception, another exception occurred:\n",
      "\n",
      "Traceback (most recent call last):\n",
      "  File \"/Users/chenzhanhuang/miniforge3/lib/python3.13/site-packages/IPython/core/interactiveshell.py\", line 2168, in showtraceback\n",
      "    stb = self.InteractiveTB.structured_traceback(\n",
      "        etype, value, tb, tb_offset=tb_offset\n",
      "    )\n",
      "  File \"/Users/chenzhanhuang/miniforge3/lib/python3.13/site-packages/IPython/core/ultratb.py\", line 1454, in structured_traceback\n",
      "    return FormattedTB.structured_traceback(\n",
      "           ~~~~~~~~~~~~~~~~~~~~~~~~~~~~~~~~^\n",
      "        self, etype, evalue, etb, tb_offset, number_of_lines_of_context\n",
      "        ^^^^^^^^^^^^^^^^^^^^^^^^^^^^^^^^^^^^^^^^^^^^^^^^^^^^^^^^^^^^^^^\n",
      "    )\n",
      "    ^\n",
      "  File \"/Users/chenzhanhuang/miniforge3/lib/python3.13/site-packages/IPython/core/ultratb.py\", line 1345, in structured_traceback\n",
      "    return VerboseTB.structured_traceback(\n",
      "           ~~~~~~~~~~~~~~~~~~~~~~~~~~~~~~^\n",
      "        self, etype, value, tb, tb_offset, number_of_lines_of_context\n",
      "        ^^^^^^^^^^^^^^^^^^^^^^^^^^^^^^^^^^^^^^^^^^^^^^^^^^^^^^^^^^^^^\n",
      "    )\n",
      "    ^\n",
      "  File \"/Users/chenzhanhuang/miniforge3/lib/python3.13/site-packages/IPython/core/ultratb.py\", line 1192, in structured_traceback\n",
      "    formatted_exception = self.format_exception_as_a_whole(etype, evalue, etb, number_of_lines_of_context,\n",
      "                                                           tb_offset)\n",
      "  File \"/Users/chenzhanhuang/miniforge3/lib/python3.13/site-packages/IPython/core/ultratb.py\", line 1082, in format_exception_as_a_whole\n",
      "    self.get_records(etb, number_of_lines_of_context, tb_offset) if etb else []\n",
      "    ~~~~~~~~~~~~~~~~^^^^^^^^^^^^^^^^^^^^^^^^^^^^^^^^^^^^^^^^^^^^\n",
      "  File \"/Users/chenzhanhuang/miniforge3/lib/python3.13/site-packages/IPython/core/ultratb.py\", line 1179, in get_records\n",
      "    res = list(stack_data.FrameInfo.stack_data(etb, options=options))[tb_offset:]\n",
      "          ~~~~^^^^^^^^^^^^^^^^^^^^^^^^^^^^^^^^^^^^^^^^^^^^^^^^^^^^^^^\n",
      "  File \"/Users/chenzhanhuang/miniforge3/lib/python3.13/site-packages/stack_data/core.py\", line 597, in stack_data\n",
      "    yield from collapse_repeated(\n",
      "    ...<4 lines>...\n",
      "    )\n",
      "  File \"/Users/chenzhanhuang/miniforge3/lib/python3.13/site-packages/stack_data/utils.py\", line 83, in collapse_repeated\n",
      "    yield from map(mapper, original_group)\n",
      "  File \"/Users/chenzhanhuang/miniforge3/lib/python3.13/site-packages/stack_data/core.py\", line 587, in mapper\n",
      "    return cls(f, options)\n",
      "  File \"/Users/chenzhanhuang/miniforge3/lib/python3.13/site-packages/stack_data/core.py\", line 551, in __init__\n",
      "    self.executing = Source.executing(frame_or_tb)\n",
      "                     ~~~~~~~~~~~~~~~~^^^^^^^^^^^^^\n",
      "  File \"/Users/chenzhanhuang/miniforge3/lib/python3.13/site-packages/executing/executing.py\", line 283, in executing\n",
      "    assert_(new_stmts <= stmts)\n",
      "    ~~~~~~~^^^^^^^^^^^^^^^^^^^^\n",
      "  File \"/Users/chenzhanhuang/miniforge3/lib/python3.13/site-packages/executing/executing.py\", line 80, in assert_\n",
      "    raise AssertionError(str(message))\n",
      "AssertionError\n"
     ]
    }
   ],
   "source": [
    "A = np.array([1,2,3],dtype = int)\n",
    "A.append(1.0)"
   ]
  },
  {
   "cell_type": "code",
   "execution_count": 22,
   "id": "899449b0",
   "metadata": {},
   "outputs": [
    {
     "data": {
      "text/html": [
       "<div>\n",
       "<style scoped>\n",
       "    .dataframe tbody tr th:only-of-type {\n",
       "        vertical-align: middle;\n",
       "    }\n",
       "\n",
       "    .dataframe tbody tr th {\n",
       "        vertical-align: top;\n",
       "    }\n",
       "\n",
       "    .dataframe thead th {\n",
       "        text-align: right;\n",
       "    }\n",
       "</style>\n",
       "<table border=\"1\" class=\"dataframe\">\n",
       "  <thead>\n",
       "    <tr style=\"text-align: right;\">\n",
       "      <th></th>\n",
       "      <th>0</th>\n",
       "    </tr>\n",
       "  </thead>\n",
       "  <tbody>\n",
       "    <tr>\n",
       "      <th>a</th>\n",
       "      <td>a</td>\n",
       "    </tr>\n",
       "    <tr>\n",
       "      <th>b</th>\n",
       "      <td>b</td>\n",
       "    </tr>\n",
       "    <tr>\n",
       "      <th>a</th>\n",
       "      <td>c</td>\n",
       "    </tr>\n",
       "  </tbody>\n",
       "</table>\n",
       "</div>"
      ],
      "text/plain": [
       "   0\n",
       "a  a\n",
       "b  b\n",
       "a  c"
      ]
     },
     "execution_count": 22,
     "metadata": {},
     "output_type": "execute_result"
    }
   ],
   "source": [
    "df = pd.DataFrame(['a','b','c'],index = ['a','b','a'])\n",
    "df\n"
   ]
  },
  {
   "cell_type": "code",
   "execution_count": 23,
   "id": "4ae756ef",
   "metadata": {},
   "outputs": [
    {
     "data": {
      "text/html": [
       "<div>\n",
       "<style scoped>\n",
       "    .dataframe tbody tr th:only-of-type {\n",
       "        vertical-align: middle;\n",
       "    }\n",
       "\n",
       "    .dataframe tbody tr th {\n",
       "        vertical-align: top;\n",
       "    }\n",
       "\n",
       "    .dataframe thead th {\n",
       "        text-align: right;\n",
       "    }\n",
       "</style>\n",
       "<table border=\"1\" class=\"dataframe\">\n",
       "  <thead>\n",
       "    <tr style=\"text-align: right;\">\n",
       "      <th></th>\n",
       "      <th>ID</th>\n",
       "      <th>Name</th>\n",
       "      <th>Score</th>\n",
       "    </tr>\n",
       "  </thead>\n",
       "  <tbody>\n",
       "    <tr>\n",
       "      <th>0</th>\n",
       "      <td>2</td>\n",
       "      <td>Bob</td>\n",
       "      <td>85</td>\n",
       "    </tr>\n",
       "    <tr>\n",
       "      <th>1</th>\n",
       "      <td>3</td>\n",
       "      <td>Charlie</td>\n",
       "      <td>90</td>\n",
       "    </tr>\n",
       "  </tbody>\n",
       "</table>\n",
       "</div>"
      ],
      "text/plain": [
       "   ID     Name  Score\n",
       "0   2      Bob     85\n",
       "1   3  Charlie     90"
      ]
     },
     "execution_count": 23,
     "metadata": {},
     "output_type": "execute_result"
    }
   ],
   "source": [
    "df1 = pd.DataFrame({'ID': [1, 2, 3], 'Name': ['Alice', 'Bob', 'Charlie']})\n",
    "df2 = pd.DataFrame({'ID': [2, 3, 4], 'Score': [85, 90, 95]})\n",
    "df3 = pd.merge(df1, df2, on='ID', how='inner')\n",
    "df3"
   ]
  },
  {
   "cell_type": "code",
   "execution_count": 25,
   "id": "b5722eec",
   "metadata": {},
   "outputs": [
    {
     "name": "stdout",
     "output_type": "stream",
     "text": [
      "0    c\n",
      "Name: 2, dtype: object\n",
      "0    c\n",
      "Name: 2, dtype: object\n"
     ]
    }
   ],
   "source": [
    "df = pd.DataFrame(['a','b','c','d'],index = [4,3,2,1])\n",
    "print(df.loc[2])\n",
    "print(df.iloc[2])\n"
   ]
  },
  {
   "cell_type": "markdown",
   "id": "6e2d5727",
   "metadata": {
    "id": "6e2d5727"
   },
   "source": [
    "# 2\n",
    "\n",
    "**Please import ``salary-data.csv`` and answer the questions.** (1 point for each question)\n",
    "\n",
    "\n",
    "2.1. Calculate the average salary for each company and display the results in descending order.  \n",
    "2.2. Which country-company combination has the highest median salary?  \n",
    "2.3. Some people's ages were mistakenly set in the records. What is the combined salary of employees whose age is less than 20?  \n",
    "2.4. How many city are recored in the dataset?  \n",
    "2.5. What percentage of people aged between 40 and 50 are from each country?  \n",
    "2.6. The exchange rate between Germany and America is 0.87, meaning 1 unit in Germany is equivalent to 0.87 units in America. Find the 60th percentile of American salaries, count how many people in Germany exceed this threshold."
   ]
  },
  {
   "cell_type": "markdown",
   "id": "f50849e7",
   "metadata": {},
   "source": [
    "_Your answer:_"
   ]
  },
  {
   "cell_type": "code",
   "execution_count": null,
   "id": "dfaf35c5",
   "metadata": {},
   "outputs": [
    {
     "data": {
      "text/plain": [
       "company\n",
       "A    33686.014841\n",
       "C    32641.865146\n",
       "B    31776.172244\n",
       "D    23054.016787\n",
       "Name: salary, dtype: float64"
      ]
     },
     "execution_count": 8,
     "metadata": {},
     "output_type": "execute_result"
    }
   ],
   "source": [
    "df = pd.read_csv('salary data.csv')\n",
    "df.groupby('company')['salary'].mean().sort_values(ascending = False)"
   ]
  },
  {
   "cell_type": "code",
   "execution_count": 13,
   "id": "00961631",
   "metadata": {},
   "outputs": [
    {
     "data": {
      "text/plain": [
       "country  company\n",
       "USA      B          49721.235220\n",
       "Germany  C          40170.522150\n",
       "         B          25902.420800\n",
       "USA      C          21788.733580\n",
       "Germany  A          21482.797110\n",
       "Japan    A          20885.531330\n",
       "         D          19627.181345\n",
       "USA      D          19243.509960\n",
       "         A          15379.410510\n",
       "Germany  D          14567.952836\n",
       "Japan    C          13200.423880\n",
       "         B           9497.065762\n",
       "Name: salary, dtype: float64"
      ]
     },
     "execution_count": 13,
     "metadata": {},
     "output_type": "execute_result"
    }
   ],
   "source": [
    "df.groupby(['country','company'])['salary'].median().sort_values(ascending = False)"
   ]
  },
  {
   "cell_type": "code",
   "execution_count": 27,
   "id": "51c93eef",
   "metadata": {},
   "outputs": [
    {
     "data": {
      "text/plain": [
       "np.float64(899866.8344096)"
      ]
     },
     "execution_count": 27,
     "metadata": {},
     "output_type": "execute_result"
    }
   ],
   "source": [
    "df[df['age']<20]['salary'].sum()"
   ]
  },
  {
   "cell_type": "code",
   "execution_count": 26,
   "id": "21a8b91c",
   "metadata": {},
   "outputs": [
    {
     "name": "stdout",
     "output_type": "stream",
     "text": [
      "['Munich' 'Washington' 'Berlin' 'New York' 'Tokyo' 'Los Angeles' 'Osaka']\n",
      "7\n"
     ]
    }
   ],
   "source": [
    "print(df['city'].unique())\n",
    "print(df['city'].nunique())"
   ]
  },
  {
   "cell_type": "code",
   "execution_count": null,
   "id": "478b1358",
   "metadata": {},
   "outputs": [
    {
     "data": {
      "text/html": [
       "<div>\n",
       "<style scoped>\n",
       "    .dataframe tbody tr th:only-of-type {\n",
       "        vertical-align: middle;\n",
       "    }\n",
       "\n",
       "    .dataframe tbody tr th {\n",
       "        vertical-align: top;\n",
       "    }\n",
       "\n",
       "    .dataframe thead th {\n",
       "        text-align: right;\n",
       "    }\n",
       "</style>\n",
       "<table border=\"1\" class=\"dataframe\">\n",
       "  <thead>\n",
       "    <tr style=\"text-align: right;\">\n",
       "      <th></th>\n",
       "      <th>country</th>\n",
       "      <th>city</th>\n",
       "      <th>company</th>\n",
       "      <th>age</th>\n",
       "      <th>salary</th>\n",
       "    </tr>\n",
       "  </thead>\n",
       "  <tbody>\n",
       "    <tr>\n",
       "      <th>5</th>\n",
       "      <td>USA</td>\n",
       "      <td>Washington</td>\n",
       "      <td>A</td>\n",
       "      <td>49</td>\n",
       "      <td>10463.282050</td>\n",
       "    </tr>\n",
       "    <tr>\n",
       "      <th>9</th>\n",
       "      <td>Germany</td>\n",
       "      <td>Berlin</td>\n",
       "      <td>D</td>\n",
       "      <td>41</td>\n",
       "      <td>5571.558489</td>\n",
       "    </tr>\n",
       "    <tr>\n",
       "      <th>17</th>\n",
       "      <td>Japan</td>\n",
       "      <td>Osaka</td>\n",
       "      <td>A</td>\n",
       "      <td>47</td>\n",
       "      <td>4527.617599</td>\n",
       "    </tr>\n",
       "    <tr>\n",
       "      <th>25</th>\n",
       "      <td>USA</td>\n",
       "      <td>Washington</td>\n",
       "      <td>B</td>\n",
       "      <td>47</td>\n",
       "      <td>49721.235220</td>\n",
       "    </tr>\n",
       "    <tr>\n",
       "      <th>57</th>\n",
       "      <td>USA</td>\n",
       "      <td>Los Angeles</td>\n",
       "      <td>C</td>\n",
       "      <td>47</td>\n",
       "      <td>23337.313280</td>\n",
       "    </tr>\n",
       "    <tr>\n",
       "      <th>64</th>\n",
       "      <td>Japan</td>\n",
       "      <td>Tokyo</td>\n",
       "      <td>A</td>\n",
       "      <td>47</td>\n",
       "      <td>9475.543963</td>\n",
       "    </tr>\n",
       "    <tr>\n",
       "      <th>85</th>\n",
       "      <td>Japan</td>\n",
       "      <td>Tokyo</td>\n",
       "      <td>C</td>\n",
       "      <td>47</td>\n",
       "      <td>13200.423880</td>\n",
       "    </tr>\n",
       "    <tr>\n",
       "      <th>90</th>\n",
       "      <td>USA</td>\n",
       "      <td>New York</td>\n",
       "      <td>D</td>\n",
       "      <td>48</td>\n",
       "      <td>1247.443558</td>\n",
       "    </tr>\n",
       "    <tr>\n",
       "      <th>92</th>\n",
       "      <td>USA</td>\n",
       "      <td>New York</td>\n",
       "      <td>C</td>\n",
       "      <td>43</td>\n",
       "      <td>36487.218350</td>\n",
       "    </tr>\n",
       "    <tr>\n",
       "      <th>96</th>\n",
       "      <td>USA</td>\n",
       "      <td>New York</td>\n",
       "      <td>D</td>\n",
       "      <td>45</td>\n",
       "      <td>19243.509960</td>\n",
       "    </tr>\n",
       "  </tbody>\n",
       "</table>\n",
       "</div>"
      ],
      "text/plain": [
       "    country         city company  age        salary\n",
       "5       USA   Washington       A   49  10463.282050\n",
       "9   Germany       Berlin       D   41   5571.558489\n",
       "17    Japan        Osaka       A   47   4527.617599\n",
       "25      USA   Washington       B   47  49721.235220\n",
       "57      USA  Los Angeles       C   47  23337.313280\n",
       "64    Japan        Tokyo       A   47   9475.543963\n",
       "85    Japan        Tokyo       C   47  13200.423880\n",
       "90      USA     New York       D   48   1247.443558\n",
       "92      USA     New York       C   43  36487.218350\n",
       "96      USA     New York       D   45  19243.509960"
      ]
     },
     "execution_count": 38,
     "metadata": {},
     "output_type": "execute_result"
    }
   ],
   "source": [
    "df.query('age > 40 and age < 50')\n",
    "# 10 people "
   ]
  },
  {
   "cell_type": "code",
   "execution_count": 57,
   "id": "c7432fd8",
   "metadata": {},
   "outputs": [
    {
     "data": {
      "text/plain": [
       "np.int64(13)"
      ]
     },
     "execution_count": 57,
     "metadata": {},
     "output_type": "execute_result"
    }
   ],
   "source": [
    "value = (df[df[\"country\"]==\"USA\"]['salary'].quantile(0.6))/0.87\n",
    "(df[df['country']==\"Germany\"]['salary']>value).sum()"
   ]
  },
  {
   "cell_type": "markdown",
   "id": "04c9849e",
   "metadata": {
    "id": "04c9849e"
   },
   "source": [
    "# 3\n",
    "\n",
    "(3 points)\n",
    "\n",
    "```python\n",
    "xs = np.linspace(5,10,101)\n",
    "ys = 4.1*xs + 1.7 + 0.9*np.cos(xs)\n",
    "```\n",
    "\n",
    "Let $x_0,\\ldots, x_{100}$ and $y_0,\\ldots,y_{100}$ be the values in `xs` and `ys` , respectively.  \n",
    "Let $f(x) = 5x + 2$.  \n",
    "Find the mean square error between $y$ and $f(x)$, which is defined as    \n",
    "$$\\frac{1}{101}\\sum_{i=0}^{100}(f(x_i) - y_i)^2.$$"
   ]
  },
  {
   "cell_type": "markdown",
   "id": "69f10882",
   "metadata": {},
   "source": [
    "_Your answer:_"
   ]
  },
  {
   "cell_type": "code",
   "execution_count": 68,
   "id": "d8973a28",
   "metadata": {},
   "outputs": [
    {
     "data": {
      "text/plain": [
       "np.float64(52.466601574724145)"
      ]
     },
     "execution_count": 68,
     "metadata": {},
     "output_type": "execute_result"
    }
   ],
   "source": [
    "xs = np.linspace(5,10,101)\n",
    "ys = 4.1*xs + 1.7 + 0.9*np.cos(xs)\n",
    "\n",
    "((xs*5+2-ys)**2).mean()"
   ]
  },
  {
   "cell_type": "markdown",
   "id": "d9f42474",
   "metadata": {
    "id": "d9f42474"
   },
   "source": [
    "# 4\n",
    "\n",
    "(3 points)\n",
    "\n",
    "Let\n",
    "\n",
    "```python\n",
    "    y = np.genfromtxt(\"plt-linear-data.csv\", delimiter=\",\")\n",
    "```\n",
    "\n",
    "There is one entry that is far from other values. What is the index of this entry?  You may plot the value of `y` to see the pattern.\n",
    "\n",
    "You don't answer the exact index, just the range (e.g., 20–25) where the anomaly seems to occur."
   ]
  },
  {
   "cell_type": "markdown",
   "id": "80ae73cf",
   "metadata": {},
   "source": [
    "_Your answer:_"
   ]
  },
  {
   "cell_type": "code",
   "execution_count": 76,
   "id": "e5e11a2b",
   "metadata": {},
   "outputs": [
    {
     "name": "stdout",
     "output_type": "stream",
     "text": [
      "[  1.88202617   3.2000786    5.48936899   8.1204466    9.933779\n",
      "  10.51136106  13.47504421  14.9243214   16.94839057  19.20529925\n",
      "  21.07202179  23.72713675  25.38051886  27.06083751  29.22193162\n",
      "  31.16683716  33.74703954  34.89742087  37.15653385  38.57295213\n",
      "  39.72350509  43.3268093   45.4322181   46.62891749  50.13487731\n",
      "  50.27281716  53.02287926  54.90640807  57.76638961  59.73467938\n",
      "  61.07747371  63.18908126  64.55610713  66.00960177  68.82604393\n",
      "  71.07817448  73.61514534  75.60118992  76.80633659  78.84884862\n",
      "  80.47572352  82.28999103 184.1468649   87.9753877   88.74517391\n",
      "  90.78096285  92.37360232  95.38874518  96.19305108  98.89362986\n",
      " 100.55226672 103.19345125 104.74459743 106.40968391 108.98590889\n",
      " 111.21416594 113.03325861 115.15123595 116.68283895 118.81862942\n",
      " 120.66376978 122.82022342 124.59342686 126.1368587  129.08871307\n",
      " 130.79910953 132.18490083 135.23139113 136.54635082 139.0259727\n",
      " 141.36454528 143.06449146 145.56970034 146.38258709 149.20117082\n",
      " 150.65759495 152.56460143 154.71057517 156.84422373 159.02808267\n",
      " 160.41742508 163.45041324 165.23283122 166.23187816 169.7441261\n",
      " 171.94794459 173.58938979 174.91003758 176.46462369 179.52722586\n",
      " 180.79841153 183.61122254 185.10413749 187.48831952 189.1781832\n",
      " 191.35328658 193.00525001 195.89293525 197.06345605 199.20099468]\n",
      "184.1468649046875\n"
     ]
    },
    {
     "data": {
      "image/png": "[encoded data removed]",
      "text/plain": [
       "<Figure size 640x480 with 1 Axes>"
      ]
     },
     "metadata": {},
     "output_type": "display_data"
    }
   ],
   "source": [
    "y = np.genfromtxt(\"plt-linear-data.csv\", delimiter=\",\")\n",
    "print(y)\n",
    "plt.plot(y, label='data')\n",
    "print(y[42])"
   ]
  },
  {
   "cell_type": "markdown",
   "id": "b52c117c",
   "metadata": {
    "id": "b52c117c"
   },
   "source": [
    "# 5\n",
    "\n",
    "(3 points)\n",
    "\n",
    "You are given a file named `figure.csv`. This file contains a 1D array of 3000 numerical values. The data was originally created by generating 1500 points , where each point had 2 values: (x, y).\n",
    "\n",
    "You need:\n",
    "\n",
    "1. Load the 1D data from the file using NumPy.\n",
    "\n",
    "```python\n",
    "    flat_data = np.genfromtxt(\"figure.csv\", delimiter=\",\")\n",
    "\n",
    "```\n",
    "\n",
    "2. Reshape the data into a 2D array with shape (1500, 2).\n",
    "\n",
    "3. Plot the data points to visualize the structure.\n",
    "\n",
    "Answer what do you see."
   ]
  },
  {
   "cell_type": "markdown",
   "id": "b2a0ca92",
   "metadata": {},
   "source": [
    "_Your answer:_"
   ]
  },
  {
   "cell_type": "code",
   "execution_count": 80,
   "id": "6443c099",
   "metadata": {},
   "outputs": [
    {
     "data": {
      "text/plain": [
       "<matplotlib.collections.PathCollection at 0x164acf8c0>"
      ]
     },
     "execution_count": 80,
     "metadata": {},
     "output_type": "execute_result"
    },
    {
     "data": {
      "image/png": "[encoded data removed]",
      "text/plain": [
       "<Figure size 640x480 with 1 Axes>"
      ]
     },
     "metadata": {},
     "output_type": "display_data"
    }
   ],
   "source": [
    "flat_data = np.genfromtxt(\"figure.csv\", delimiter=\",\").reshape(1500,2)\n",
    "plt.scatter(flat_data[:,0], flat_data[:,1])"
   ]
  },
  {
   "cell_type": "markdown",
   "id": "9a2f6182",
   "metadata": {
    "id": "9a2f6182"
   },
   "source": [
    "# 6\n",
    "\n",
    "(3 points)\n",
    "\n",
    "Count the numbers of $x$ with $0 \\leq x \\leq 1000$ that is divisible by 11."
   ]
  },
  {
   "cell_type": "markdown",
   "id": "7a5bf17b",
   "metadata": {},
   "source": [
    "_Your answer:_"
   ]
  },
  {
   "cell_type": "markdown",
   "id": "b8116da8",
   "metadata": {
    "id": "b8116da8"
   },
   "source": [
    "# 7\n",
    "\n",
    "(3 points)\n",
    "\n",
    "Build an array  \n",
    "\n",
    "$$\n",
    "    \\begin{bmatrix}\n",
    "        0 \\cdot 0 & 0 \\cdot 1 & \\cdots & 0 \\cdot 9 \\\\\n",
    "        1 \\cdot 0 & 1 \\cdot 1 & ~ & \\vdots \\\\\n",
    "        \\vdots & ~ & ~ & ~ \\\\\n",
    "        9 \\cdot 0 & \\cdots & ~ & 9 \\cdot 9\n",
    "    \\end{bmatrix}.\n",
    "$$\n",
    "\n",
    "Then find the average of all its entries.  (Note that the dot here is the product.)"
   ]
  },
  {
   "cell_type": "markdown",
   "id": "50b83f54",
   "metadata": {},
   "source": [
    "_Your answer:_"
   ]
  },
  {
   "cell_type": "markdown",
   "id": "3f7c785d",
   "metadata": {
    "id": "3f7c785d"
   },
   "source": [
    "# 8\n",
    "\n",
    "Please import `rain-fall-2` and `rain-fall-1` and answer the following questions.\n",
    "\n",
    "8.1. A rainfall value greater than 50 is defined as a heavy rain day. Compare which city had more heavy rain days in the `rain-fall-1` dataset. (1 point)  \n",
    "\n",
    "8.2.\n",
    "`merge_df` is a dataset created by an inner join of `rain-fall-1` and `rain-fall-2`, `diff = merge_df['city2'] - ['city3']`. caluate the diff mean,25 25th percentile, 75th quantile.  \n",
    "Note that the dates in df2 were mistakenly formatted as mm/dd/yy (with the year at the end). (2 point)\n"
   ]
  },
  {
   "cell_type": "markdown",
   "id": "4e876f5d",
   "metadata": {},
   "source": [
    "_Your answer:_"
   ]
  }
 ],
 "metadata": {
  "colab": {
   "provenance": []
  },
  "kernelspec": {
   "display_name": "base",
   "language": "python",
   "name": "python3"
  },
  "language_info": {
   "codemirror_mode": {
    "name": "ipython",
    "version": 3
   },
   "file_extension": ".py",
   "mimetype": "text/x-python",
   "name": "python",
   "nbconvert_exporter": "python",
   "pygments_lexer": "ipython3",
   "version": "3.13.2"
  }
 },
 "nbformat": 4,
 "nbformat_minor": 5
}
